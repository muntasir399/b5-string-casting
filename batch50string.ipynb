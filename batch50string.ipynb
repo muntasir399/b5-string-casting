{
  "nbformat": 4,
  "nbformat_minor": 0,
  "metadata": {
    "colab": {
      "provenance": [],
      "include_colab_link": true
    },
    "kernelspec": {
      "name": "python3",
      "display_name": "Python 3"
    },
    "language_info": {
      "name": "python"
    }
  },
  "cells": [
    {
      "cell_type": "markdown",
      "metadata": {
        "id": "view-in-github",
        "colab_type": "text"
      },
      "source": [
        "<a href=\"https://colab.research.google.com/github/muntasir399/b5-string-casting/blob/main/batch50string.ipynb\" target=\"_parent\"><img src=\"https://colab.research.google.com/assets/colab-badge.svg\" alt=\"Open In Colab\"/></a>"
      ]
    },
    {
      "cell_type": "code",
      "execution_count": null,
      "metadata": {
        "colab": {
          "base_uri": "https://localhost:8080/"
        },
        "id": "zfzA0riyQ70q",
        "outputId": "a1a4e1c0-157b-45a5-9d1b-c6d1247cf87f"
      },
      "outputs": [
        {
          "output_type": "stream",
          "name": "stdout",
          "text": [
            "1\tAfter &=, x = 1\n",
            "2\tAfter |=, x = 7\n",
            "3\tAfter ^=, x = 6\n",
            "4\tAfter >>=, x = 2\n",
            "5\tAfter <<=, x = 16\n",
            "6\tWalrus operator example, x = 3\n"
          ]
        }
      ],
      "source": [
        "# Testing &= operator\n",
        "x = 5  # Binary: 0101\n",
        "x &= 3  # Binary: 0011 -> Result: 0001 (1)\n",
        "print(\"1\\tAfter &=, x =\", x)\n",
        "\n",
        "# Testing |= operator\n",
        "x = 5  # Reset x to 5 (Binary: 0101)\n",
        "x |= 3  # Binary: 0011 -> Result: 0111 (7)\n",
        "print(\"2\\tAfter |=, x =\", x)\n",
        "\n",
        "# Testing ^= operator\n",
        "x = 5  # Reset x to 5 (Binary: 0101)\n",
        "x ^= 3  # Binary: 0011 -> Result: 0110 (6)\n",
        "print(\"3\\tAfter ^=, x =\", x)\n",
        "\n",
        "# Testing >>= operator\n",
        "x = 16  # Binary: 10000\n",
        "x >>= 3  # Shift right by 3 -> Result: 00010 (2)\n",
        "print(\"4\\tAfter >>=, x =\", x)\n",
        "\n",
        "# Testing <<= operator\n",
        "x = 2  # Reset x to 2 (Binary: 00010)\n",
        "x <<= 3  # Shift left by 3 -> Result: 10000 (16)\n",
        "print(\"5\\tAfter <<=, x =\", x)\n",
        "\n",
        "# Testing := (Walrus Operator)\n",
        "# Assign and print in a single statement\n",
        "print(\"6\\tWalrus operator example, x =\", (x := 3))\n"
      ]
    },
    {
      "cell_type": "code",
      "source": [
        "x = float(1)     # x will be 1.0\n",
        "y = float(2.8)   # y will be 2.8\n",
        "z = float(\"3\")   # z will be 3.0\n",
        "w = float(\"4.2\") # w will be 4.2"
      ],
      "metadata": {
        "id": "3QlhOfyRIq9s"
      },
      "execution_count": null,
      "outputs": []
    },
    {
      "cell_type": "code",
      "source": [
        "txt = \"The best things in life are free!\"\n",
        "if \"free\" in txt:\n",
        "  print(\"Yes, 'free' is present.\")"
      ],
      "metadata": {
        "id": "9hfnyhG8JY5S",
        "outputId": "c9331db1-932e-4374-b3a3-ea7bf9b10ae7",
        "colab": {
          "base_uri": "https://localhost:8080/"
        }
      },
      "execution_count": null,
      "outputs": [
        {
          "output_type": "stream",
          "name": "stdout",
          "text": [
            "Yes, 'free' is present.\n"
          ]
        }
      ]
    },
    {
      "cell_type": "code",
      "source": [
        "b = \"Hello, World!\"\n",
        "print(b[-5:-2])"
      ],
      "metadata": {
        "id": "TkFaVxHCJtaj",
        "outputId": "ee0a67a9-d805-4217-bbe3-e715d1a194a5",
        "colab": {
          "base_uri": "https://localhost:8080/"
        }
      },
      "execution_count": null,
      "outputs": [
        {
          "output_type": "stream",
          "name": "stdout",
          "text": [
            "orl\n"
          ]
        }
      ]
    },
    {
      "cell_type": "code",
      "source": [
        "a = \"Hello, World!\"\n",
        "print(a.replace(\"H\", \"J\"))"
      ],
      "metadata": {
        "id": "GnSnlVBsJ0T3",
        "outputId": "4133bec9-4ee6-474e-dff1-1ca4c840cf4b",
        "colab": {
          "base_uri": "https://localhost:8080/"
        }
      },
      "execution_count": null,
      "outputs": [
        {
          "output_type": "stream",
          "name": "stdout",
          "text": [
            "Jello, World!\n"
          ]
        }
      ]
    },
    {
      "cell_type": "code",
      "source": [
        "age = 36\n",
        "txt = f\"My name is John, I am {age}\"\n",
        "print(txt)"
      ],
      "metadata": {
        "id": "WK4GU_pYJ4sn",
        "outputId": "e73af334-5dfb-4fcb-fce0-7f5cb0b3c3b1",
        "colab": {
          "base_uri": "https://localhost:8080/"
        }
      },
      "execution_count": null,
      "outputs": [
        {
          "output_type": "stream",
          "name": "stdout",
          "text": [
            "My name is John, I am 36\n"
          ]
        }
      ]
    },
    {
      "cell_type": "code",
      "source": [
        "txt = f\"The price is {20 * 59} dollars\"\n",
        "print(txt)"
      ],
      "metadata": {
        "id": "mdZaDfnkJ9sy",
        "outputId": "4003b513-bfd5-44fa-8071-c414568c3706",
        "colab": {
          "base_uri": "https://localhost:8080/"
        }
      },
      "execution_count": null,
      "outputs": [
        {
          "output_type": "stream",
          "name": "stdout",
          "text": [
            "The price is 1180 dollars\n"
          ]
        }
      ]
    },
    {
      "cell_type": "code",
      "source": [
        "a = 200\n",
        "b = 33\n",
        "\n",
        "if b > a:\n",
        "  print(\"b is greater than a\")\n",
        "else:\n",
        "  print(\"b is not greater than a\")"
      ],
      "metadata": {
        "id": "Muyz25NbKBjg",
        "outputId": "aa3fb2d6-418f-44d4-d3da-2706e9c2f47f",
        "colab": {
          "base_uri": "https://localhost:8080/"
        }
      },
      "execution_count": null,
      "outputs": [
        {
          "output_type": "stream",
          "name": "stdout",
          "text": [
            "b is not greater than a\n"
          ]
        }
      ]
    },
    {
      "cell_type": "code",
      "source": [
        "bool(\"abc\")\n",
        "bool(123)\n",
        "bool([\"apple\", \"cherry\", \"banana\"])"
      ],
      "metadata": {
        "id": "lMUJv_ujKIhk",
        "outputId": "1bcfd23a-dd60-4780-e8c8-6ec903ef89fd",
        "colab": {
          "base_uri": "https://localhost:8080/"
        }
      },
      "execution_count": null,
      "outputs": [
        {
          "output_type": "execute_result",
          "data": {
            "text/plain": [
              "True"
            ]
          },
          "metadata": {},
          "execution_count": 10
        }
      ]
    },
    {
      "cell_type": "code",
      "source": [
        "class myclass():\n",
        "  def __len__(self):\n",
        "    return 0\n",
        "\n",
        "myobj = myclass()\n",
        "print(bool(myobj))"
      ],
      "metadata": {
        "id": "Y_BrD9hlKLwp",
        "outputId": "b02df76c-480c-457b-a67d-46fb4c90ef71",
        "colab": {
          "base_uri": "https://localhost:8080/"
        }
      },
      "execution_count": null,
      "outputs": [
        {
          "output_type": "stream",
          "name": "stdout",
          "text": [
            "False\n"
          ]
        }
      ]
    },
    {
      "cell_type": "code",
      "source": [
        "def myFunction() :\n",
        "  return True\n",
        "\n",
        "if myFunction():\n",
        "  print(\"YES!\")\n",
        "else:\n",
        "  print(\"NO!\")"
      ],
      "metadata": {
        "id": "ozk77esoKO6M",
        "outputId": "44b84ff9-9a35-43f2-f6e4-2d0b7eb8e3e7",
        "colab": {
          "base_uri": "https://localhost:8080/"
        }
      },
      "execution_count": null,
      "outputs": [
        {
          "output_type": "stream",
          "name": "stdout",
          "text": [
            "YES!\n"
          ]
        }
      ]
    },
    {
      "cell_type": "code",
      "source": [],
      "metadata": {
        "id": "UxzYu2BxKRon"
      },
      "execution_count": null,
      "outputs": []
    }
  ]
}